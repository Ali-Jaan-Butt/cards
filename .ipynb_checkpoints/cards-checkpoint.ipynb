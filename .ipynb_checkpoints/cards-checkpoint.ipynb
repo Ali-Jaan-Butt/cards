{
 "cells": [
  {
   "cell_type": "markdown",
   "id": "0c2ecefd",
   "metadata": {},
   "source": [
    "<h3>Google Sheets API Credentials</h3>\n",
    "<pre>Email: amberpro69@gmail.com\n",
    "Password: amberdrake4283</pre>"
   ]
  },
  {
   "cell_type": "code",
   "execution_count": 2,
   "id": "5fc280bb",
   "metadata": {
    "tags": []
   },
   "outputs": [],
   "source": [
    "import re\n",
    "import pandas as pd\n",
    "# import gspread\n",
    "# from oauth2client.service_account import ServiceAccountCredentials\n",
    "# from gspread_dataframe import get_as_dataframe, set_with_dataframe"
   ]
  },
  {
   "cell_type": "code",
   "execution_count": 4,
   "id": "a2f536db-7bec-41da-9ccd-bb74c0521c30",
   "metadata": {
    "tags": []
   },
   "outputs": [],
   "source": [
    "hareruyamtg_df = pd.read_csv('hareruyamtg.csv')\n",
    "cardkingdom_df = pd.read_csv('cardkingdom.csv')\n",
    "tcgplayer_details_df = pd.read_csv('tcgplayer_details.csv')\n",
    "tcgplayer_prices_df = pd.read_csv('tcgplayer_prices.csv')"
   ]
  },
  {
   "cell_type": "code",
   "execution_count": 5,
   "id": "49012c5f-798e-4205-850e-f833484e2171",
   "metadata": {
    "tags": []
   },
   "outputs": [],
   "source": [
    "tcgplayer_df = pd.merge(tcgplayer_details_df,tcgplayer_prices_df,how='left')"
   ]
  },
  {
   "cell_type": "code",
   "execution_count": 6,
   "id": "aa04889d",
   "metadata": {},
   "outputs": [],
   "source": [
    "hareruyamtg_df = hareruyamtg_df[~hareruyamtg_df['name'].str.contains('【Art Card】')]\n",
    "hareruyamtg_df['set'] = hareruyamtg_df['name'].str.extract('\\[(.+?)\\]')\n",
    "hareruyamtg_df['name'] = hareruyamtg_df['name'].str.extract('《(.+?)》')\n",
    "hareruyamtg_df = hareruyamtg_df[~((hareruyamtg_df['name'].isna()) | (hareruyamtg_df['set'].isna()))].drop_duplicates(subset=['name','set'],ignore_index=True).reset_index(drop=True)"
   ]
  },
  {
   "cell_type": "code",
   "execution_count": 7,
   "id": "a4989c54",
   "metadata": {},
   "outputs": [],
   "source": [
    "cardkingdom_df['set'] = cardkingdom_df['name'].str.split(': ',expand=True)[0]\n",
    "cardkingdom_df['name'] = cardkingdom_df['name'].str.split(': ',expand=True)[1]\n",
    "cardkingdom_df = cardkingdom_df[~((cardkingdom_df['name'].isna()) | (cardkingdom_df['set'].isna()))].drop_duplicates(subset=['name','set'],ignore_index=True).reset_index(drop=True)"
   ]
  },
  {
   "cell_type": "code",
   "execution_count": 8,
   "id": "23aa0903",
   "metadata": {},
   "outputs": [],
   "source": [
    "tcgplayer_df.drop_duplicates(subset=['product_name','set_code'], ignore_index=True, inplace=True)"
   ]
  },
  {
   "cell_type": "code",
   "execution_count": 9,
   "id": "7b9dc58a",
   "metadata": {},
   "outputs": [],
   "source": [
    "hareruyamtg_df = hareruyamtg_df[['name','set','stock','price']].rename(columns={'price':'hareruyamtg_price'})\n",
    "cardkingdom_df = cardkingdom_df[['name','set','price']].rename(columns={'price':'cardkingdom_price'})\n",
    "tcgplayer_df = tcgplayer_df[['product_name','set_code','buy_list_market_price']].rename(columns={'product_name':'name','set_code':'set','buy_list_market_price':'tcgplayer_buy_list_market_price'})"
   ]
  },
  {
   "cell_type": "code",
   "execution_count": 10,
   "id": "0412f3ca",
   "metadata": {},
   "outputs": [],
   "source": [
    "merged_df = pd.merge(hareruyamtg_df,cardkingdom_df,how='left',left_on=['name','set'],right_on=['name','set'])\n",
    "merged_df = pd.merge(merged_df,tcgplayer_df,how='left',left_on=['name','set'],right_on=['name','set'])\n",
    "merged_df = merged_df[~((merged_df['cardkingdom_price'].isna()) & (merged_df['tcgplayer_buy_list_market_price'].isna()))]\n",
    "merged_df.to_csv('merged.csv',index=False)"
   ]
  },
  {
   "cell_type": "code",
   "execution_count": 11,
   "id": "662b137e",
   "metadata": {
    "collapsed": true
   },
   "outputs": [
    {
     "ename": "NameError",
     "evalue": "name 'ServiceAccountCredentials' is not defined",
     "output_type": "error",
     "traceback": [
      "\u001b[0;31m---------------------------------------------------------------------------\u001b[0m",
      "\u001b[0;31mNameError\u001b[0m                                 Traceback (most recent call last)",
      "Cell \u001b[0;32mIn[11], line 1\u001b[0m\n\u001b[0;32m----> 1\u001b[0m credentials \u001b[38;5;241m=\u001b[39m ServiceAccountCredentials\u001b[38;5;241m.\u001b[39mfrom_json_keyfile_name(\u001b[38;5;124m'\u001b[39m\u001b[38;5;124mservice_account.json\u001b[39m\u001b[38;5;124m'\u001b[39m)\n\u001b[1;32m      2\u001b[0m client \u001b[38;5;241m=\u001b[39m gspread\u001b[38;5;241m.\u001b[39mauthorize(credentials)\n",
      "\u001b[0;31mNameError\u001b[0m: name 'ServiceAccountCredentials' is not defined"
     ]
    }
   ],
   "source": [
    "credentials = ServiceAccountCredentials.from_json_keyfile_name('service_account.json')\n",
    "client = gspread.authorize(credentials)"
   ]
  },
  {
   "cell_type": "code",
   "execution_count": null,
   "id": "d141037c",
   "metadata": {},
   "outputs": [],
   "source": [
    "sheet = client.open('Futwiz Data - Fiverr')\n",
    "data_sheet = sheet.worksheet('Data')\n",
    "input_sheet = sheet.worksheet('Input')"
   ]
  },
  {
   "cell_type": "code",
   "execution_count": null,
   "id": "31fe62e5",
   "metadata": {},
   "outputs": [],
   "source": [
    "set_with_dataframe(data_sheet, futwiz_df)"
   ]
  }
 ],
 "metadata": {
  "jupytext": {
   "formats": "ipynb,py:light"
  },
  "kernelspec": {
   "display_name": "Python 3 (ipykernel)",
   "language": "python",
   "name": "python3"
  },
  "language_info": {
   "codemirror_mode": {
    "name": "ipython",
    "version": 3
   },
   "file_extension": ".py",
   "mimetype": "text/x-python",
   "name": "python",
   "nbconvert_exporter": "python",
   "pygments_lexer": "ipython3",
   "version": "3.11.3"
  }
 },
 "nbformat": 4,
 "nbformat_minor": 5
}
